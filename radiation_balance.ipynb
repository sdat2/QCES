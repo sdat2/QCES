{
  "cells": [
    {
      "cell_type": "markdown",
      "metadata": {
        "id": "view-in-github",
        "colab_type": "text"
      },
      "source": [
        "<a href=\"https://colab.research.google.com/github/johnryantaylor/QCES/blob/main/radiation_balance.ipynb\" target=\"_parent\"><img src=\"https://colab.research.google.com/assets/colab-badge.svg\" alt=\"Open In Colab\"/></a>"
      ]
    },
    {
      "cell_type": "markdown",
      "metadata": {
        "id": "n-2ywc1QJoY4"
      },
      "source": [
        "## Atmospheric heat budget\n",
        "This notebook implements a single box atmospheric heat budget, following the derivation in the AOCD lectures.\n",
        "\n",
        "For details, see textbook: Introduction to Atmosphere Physics by David Andrews."
      ]
    },
    {
      "cell_type": "markdown",
      "metadata": {
        "id": "CE97KwLbJoY5"
      },
      "source": [
        "### 1. Equilibrium temperature\n",
        "\n",
        "In this section, we calculate the equilibrium temperature at the surface of the Earth\n",
        "\n",
        "First, set some constants:"
      ]
    },
    {
      "cell_type": "code",
      "execution_count": null,
      "metadata": {
        "id": "cmbcAryvJoY6"
      },
      "outputs": [],
      "source": [
        "alpha = 0.3 # Earth's albedo (non-dimensional)\n",
        "Ts = 0.9 # Transmittance for shortwave radiation (non-dimensional)\n",
        "Tl = 0.2 # Transmittance for longwave radiation (non-dimensional)\n",
        "F0 = 342 # Incoming solar flux in W/m^2 (averaged over the Earth's surface)\n",
        "sigma = 5.7e-8 # Stefan-Boltzmann constant (W/m^2/K^4)"
      ]
    },
    {
      "cell_type": "markdown",
      "metadata": {
        "id": "OonCdoIoJoY6"
      },
      "source": [
        "Now, calculate the temperature of the Earth's surface (ground) in degrees Kelvin:"
      ]
    },
    {
      "cell_type": "code",
      "execution_count": null,
      "metadata": {
        "id": "8jf49uYwJoY7",
        "outputId": "51c8c3b4-beeb-4864-8183-b1ab99cd0b87"
      },
      "outputs": [
        {
          "name": "stdout",
          "output_type": "stream",
          "text": [
            "The equilibrium temperature of the surface of the Earth is 15.4ºC\n",
            "The equilibrium temperature of the atmosphere is -22.6ºC\n"
          ]
        }
      ],
      "source": [
        "Fg = F0 * ((1 - alpha) * Ts + 1 - alpha * Ts**2.0)/(1 + Tl)\n",
        "Fa = (1 - alpha * Ts**2.0) * F0 - Tl * Fg\n",
        "theta_g = (Fg / sigma)**0.25\n",
        "theta_a = (Fa / (sigma * (1 - Tl)))**0.25\n",
        "print(f'The equilibrium temperature of the surface of the Earth is {theta_g-273.15:.1f}ºC')\n",
        "print(f'The equilibrium temperature of the atmosphere is {theta_a-273.15:.1f}ºC')"
      ]
    },
    {
      "cell_type": "markdown",
      "metadata": {
        "id": "KRaAjJmkJoY7"
      },
      "source": [
        "### 2. Time-dependent model\n",
        "\n",
        "In this section, we implement a model for the temperature of the atmosphere as a function of time. This can be used to model the response of the atmosphere to a prescribed change in greenhouse gases.\n",
        "\n",
        "First, define some constants:"
      ]
    },
    {
      "cell_type": "code",
      "execution_count": null,
      "metadata": {
        "id": "Ir84I4QIJoY7"
      },
      "outputs": [],
      "source": [
        "c_pa = 5e21 # Heat capacity of the atmosphere (J/ºC)\n",
        "c_po = 5.6e24 # Heat capacity of the ocean (J/ºC)\n",
        "A_e = 5e14 # surface area of the earth (m^2)"
      ]
    },
    {
      "cell_type": "markdown",
      "metadata": {
        "id": "hTAJtQaTJoY7"
      },
      "source": [
        "We will start with the equilibrium state calculated above. Then, to represent a doubling in atmospheric CO2 (from 320 ppmv to 720 ppmv) we will abruptly decrease Tl by 0.02."
      ]
    },
    {
      "cell_type": "code",
      "execution_count": null,
      "metadata": {
        "id": "yzjsRxSjJoY7"
      },
      "outputs": [],
      "source": [
        "Tl = Tl - 0.02"
      ]
    },
    {
      "cell_type": "markdown",
      "metadata": {
        "id": "AF4YD6eOJoY8"
      },
      "source": [
        "The code below timesteps the coupled equations using Explicit Euler. Note that the equilibrium values of $\\theta_g$ and $\\theta_a$ are used as initial conditions and should be calculated above before running the code below."
      ]
    },
    {
      "cell_type": "code",
      "execution_count": null,
      "metadata": {
        "id": "WtYuYC3XJoY8",
        "outputId": "54ef3a0f-0a5c-45b1-8f20-8fefc9387c72"
      },
      "outputs": [
        {
          "data": {
            "image/png": "[encoded data removed]",
            "text/plain": [
              "<Figure size 640x480 with 1 Axes>"
            ]
          },
          "metadata": {},
          "output_type": "display_data"
        }
      ],
      "source": [
        "import numpy as np\n",
        "import matplotlib.pyplot as plt\n",
        "\n",
        "t_start = 0  # start time (time elapsed since doubling of CO2)\n",
        "t_end = 1000 * 365 * 24 * 3600  # end time in seconds\n",
        "Nt = 100000  # number of timesteps\n",
        "\n",
        "t = np.linspace(t_start, t_end, Nt)  # Create a vector of times\n",
        "dt = (t[-1] - t[0]) / (len(t) - 1) # Set the timestep\n",
        "\n",
        "theta_a_save = np.zeros(Nt) # Create an empty vector to store the time-dependent atmospheric temperature\n",
        "theta_g_save = np.zeros(Nt) # Create an empty vector to store the time-dependent ground temperature\n",
        "\n",
        "# Set the initial condition based on the equilibrium calculated above\n",
        "theta_a_save[0] = theta_a\n",
        "theta_g_save[0] = theta_g\n",
        "\n",
        "for k in range(1, Nt): # loop over the number of timesteps\n",
        "    Fg = sigma * theta_g**4.0 # longwave heat flux from ground\n",
        "    Fa = (1 - Tl) * sigma * theta_a**4.0 # longwave heat flux from atmosphere\n",
        "    Fg_net = Ts * F0 * (1 - alpha) + Fa - Fg # The net heat flux into the ground\n",
        "    Fa_net = (1 - Ts) * F0 + alpha * Ts * F0 * (1 - Ts) + Fg * (1 - Tl) - 2 * Fa # The net heat flux into the atmosphere\n",
        "    theta_a = theta_a + dt * A_e * Fa_net / c_pa # Calculate the new atmospheric temperature\n",
        "    theta_g = theta_g + dt * A_e * Fg_net / c_po # Calculate the new ground temperature\n",
        "    theta_a_save[k] = theta_a # save the atmospheric temperature\n",
        "    theta_g_save[k] = theta_g # save the ground temperature\n",
        "\n",
        "plt.plot(t/365/24/3600,theta_g_save-273.15,'b-')\n",
        "plt.title('Average ground temperature')\n",
        "plt.xlabel('Time (years)')\n",
        "plt.ylabel('Temperature (ºC)')\n",
        "plt.show()"
      ]
    }
  ],
  "metadata": {
    "kernelspec": {
      "display_name": "dedalus3",
      "language": "python",
      "name": "python3"
    },
    "language_info": {
      "codemirror_mode": {
        "name": "ipython",
        "version": 3
      },
      "file_extension": ".py",
      "mimetype": "text/x-python",
      "name": "python",
      "nbconvert_exporter": "python",
      "pygments_lexer": "ipython3",
      "version": "3.12.2"
    },
    "colab": {
      "provenance": [],
      "include_colab_link": true
    }
  },
  "nbformat": 4,
  "nbformat_minor": 0
}